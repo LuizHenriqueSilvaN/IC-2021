{
 "cells": [
  {
   "cell_type": "markdown",
   "id": "1c603ba9",
   "metadata": {},
   "source": [
    "# Aplicação de um algoritimo LMS"
   ]
  },
  {
   "cell_type": "code",
   "execution_count": 53,
   "id": "72c3ffe9",
   "metadata": {},
   "outputs": [],
   "source": [
    "import numpy as np\n",
    "import math"
   ]
  },
  {
   "cell_type": "code",
   "execution_count": 38,
   "id": "d6106c43",
   "metadata": {},
   "outputs": [],
   "source": [
    "N = 5000 #comprimento do sinal(amostras)\n",
    "n = range(0, N+1)"
   ]
  },
  {
   "cell_type": "code",
   "execution_count": 54,
   "id": "c12b8a3e",
   "metadata": {},
   "outputs": [],
   "source": [
    "#Sinal de Referência\n",
    "f = 0.005 # em Hz\n",
    "theta = 0 # fase\n",
    "A = 1 # amplitude do sinal\n",
    "for num in n:\n",
    "    arg = ((2*math.pi*f*num)- theta) #argumento da função do sinal\n",
    "    signal = A*np.sin(arg)\n",
    "    continue"
   ]
  },
  {
   "cell_type": "code",
   "execution_count": 84,
   "id": "3937b0ac",
   "metadata": {},
   "outputs": [],
   "source": [
    "L = 15 #número de coeficientes\n",
    "W = np.random.randn(1,L) #matriz de números aleatórios\n",
    "\n",
    "#Gerando sinal de ruído puro\n",
    "noise = np.random.randn(1,N)\n",
    "\n",
    "#Gerando ruído para sinal de entrada\n",
    "noise_input = np.convolve(np.reshape(noise, noise.size), np.reshape(W,W.size))"
   ]
  },
  {
   "cell_type": "code",
   "execution_count": 108,
   "id": "fd62f0be",
   "metadata": {},
   "outputs": [],
   "source": [
    "#sinal de entrada\n",
    "d = []\n",
    "for i in range(5000):\n",
    " d.append(signal + noise_input[i])"
   ]
  }
 ],
 "metadata": {
  "kernelspec": {
   "display_name": "Python 3",
   "language": "python",
   "name": "python3"
  },
  "language_info": {
   "codemirror_mode": {
    "name": "ipython",
    "version": 3
   },
   "file_extension": ".py",
   "mimetype": "text/x-python",
   "name": "python",
   "nbconvert_exporter": "python",
   "pygments_lexer": "ipython3",
   "version": "3.8.8"
  }
 },
 "nbformat": 4,
 "nbformat_minor": 5
}
